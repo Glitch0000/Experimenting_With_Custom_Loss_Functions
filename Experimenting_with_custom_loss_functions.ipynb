{
  "nbformat": 4,
  "nbformat_minor": 0,
  "metadata": {
    "colab": {
      "name": "Experimenting_with_custom_loss_functions",
      "provenance": [],
      "collapsed_sections": [],
      "toc_visible": true,
      "authorship_tag": "ABX9TyOPHbpD6UciBVsrwr62a0c8",
      "include_colab_link": true
    },
    "kernelspec": {
      "name": "python3",
      "display_name": "Python 3"
    },
    "accelerator": "GPU"
  },
  "cells": [
    {
      "cell_type": "markdown",
      "metadata": {
        "id": "view-in-github",
        "colab_type": "text"
      },
      "source": [
        "<a href=\"https://colab.research.google.com/github/Glitch0000/Experimenting_with_custom_loss_functions/blob/main/Experimenting_with_custom_loss_functions.ipynb\" target=\"_parent\"><img src=\"https://colab.research.google.com/assets/colab-badge.svg\" alt=\"Open In Colab\"/></a>"
      ]
    },
    {
      "cell_type": "markdown",
      "metadata": {
        "id": "KTsp7mVKbfI9"
      },
      "source": [
        "# Creating a Custom Loss Function\r\n",
        "In this notbook we will create custom loss functions. We will build a simple linear regression neural network in order to test our custom functions. The data are two arrays : $xs$ (inputs) and $ys$ (labels), where the relationship between each corresponding element is $y=3x-1$.:\r\n",
        "\r\n",
        "$xs = [-1.0,  0.0, 1.0, 2.0, 3.0, 4.0]$\r\n",
        "\r\n",
        "$ys = [-4.0, -1.0, 2.0, 5.0, 8.0, 11.0]$\r\n",
        "\r\n"
      ]
    },
    {
      "cell_type": "code",
      "metadata": {
        "id": "PbBngXv3a9vl"
      },
      "source": [
        "import tensorflow as tf\r\n",
        "import numpy as np\r\n",
        "from tensorflow import keras\r\n",
        "from tensorflow.keras import backend as k"
      ],
      "execution_count": 1,
      "outputs": []
    },
    {
      "cell_type": "code",
      "metadata": {
        "id": "Zqf4oiV-fH1j"
      },
      "source": [
        "# inputs\r\n",
        "xs = np.array([-1.0,  0.0, 1.0, 2.0, 3.0, 4.0], dtype=float)\r\n",
        "\r\n",
        "# labels. relationship with the inputs above is y=3x-1.\r\n",
        "ys = np.array([-4.0, -1.0, 2.0, 5.0, 8.0, 11.0], dtype=float)"
      ],
      "execution_count": 2,
      "outputs": []
    },
    {
      "cell_type": "markdown",
      "metadata": {
        "id": "DrqajUIffSFC"
      },
      "source": [
        "### Defining the custom loss function \r\n",
        "First, we create a simpe loss function that returns the root mean square error (RMSE).It is called `my_rmse()` , returns the RMSE between the target (`y_true`) and prediction (`y_pred`). \r\n",
        "\r\n",
        "You will return $\\sqrt{error}$, where $error$ = $mean((y_{true} - y_{pred})^2)$\r\n",
        "- error: the difference between the true label and predicted label.\r\n",
        "- sqr_error: the square of the error.\r\n",
        "- mean_sqr_error: the mean of the square of the error\r\n",
        "- sqrt_mean_sqr_error: the square root of hte mean of the square of the error (the root mean squared error).\r\n"
      ]
    },
    {
      "cell_type": "code",
      "metadata": {
        "id": "OGp2kggmftOh"
      },
      "source": [
        "def my_rmse(y_true, y_pred):\r\n",
        "    error = y_true-y_pred\r\n",
        "    sqr_error = k.square(error) \r\n",
        "    mean_sqr_error = k.mean(sqr_error)\r\n",
        "    sqrt_mean_sqr_error = k.sqrt(mean_sqr_error)\r\n",
        "    return sqrt_mean_sqr_error"
      ],
      "execution_count": 3,
      "outputs": []
    },
    {
      "cell_type": "markdown",
      "metadata": {
        "id": "M-GqDsYJf64I"
      },
      "source": [
        "### Defining a model using the custom loss function \r\n",
        "Here we define a simple model and pass the function you just coded as the loss."
      ]
    },
    {
      "cell_type": "code",
      "metadata": {
        "colab": {
          "base_uri": "https://localhost:8080/"
        },
        "id": "TLUZsSbPgDcw",
        "outputId": "eee71524-4ae6-4118-efe2-3c5703218037"
      },
      "source": [
        "model = tf.keras.Sequential([keras.layers.Dense(units=1, input_shape=[1])])\r\n",
        "\r\n",
        "model.compile(optimizer='sgd', loss=my_rmse)\r\n",
        "              \r\n",
        "# train the model \r\n",
        "model.fit(xs, ys, epochs=500,verbose=0)\r\n",
        "              \r\n",
        "# test with a sample input\r\n",
        "print(model.predict([10.0]))"
      ],
      "execution_count": 10,
      "outputs": [
        {
          "output_type": "stream",
          "text": [
            "[[28.908419]]\n"
          ],
          "name": "stdout"
        }
      ]
    },
    {
      "cell_type": "markdown",
      "metadata": {
        "id": "CGF6jAHagnlO"
      },
      "source": [
        "###Huber loss function"
      ]
    },
    {
      "cell_type": "code",
      "metadata": {
        "id": "wqJuAcTxgwuF"
      },
      "source": [
        "def my_huber_loss_with_threshold(threshold):\r\n",
        "  \r\n",
        "    # function that accepts the ground truth and predictions\r\n",
        "    def my_huber_loss(y_true, y_pred):\r\n",
        "        error = y_true - y_pred\r\n",
        "        is_small_error = tf.abs(error) <= threshold\r\n",
        "        small_error_loss = tf.square(error) / 2\r\n",
        "        big_error_loss = threshold * (tf.abs(error) - (0.5 * threshold))\r\n",
        "        \r\n",
        "        return tf.where(is_small_error, small_error_loss, big_error_loss) \r\n",
        "\r\n",
        "    # return the inner function tuned by the hyperparameter\r\n",
        "    return my_huber_loss"
      ],
      "execution_count": 6,
      "outputs": []
    },
    {
      "cell_type": "markdown",
      "metadata": {
        "id": "RoEP2Vkig6OV"
      },
      "source": [
        "##Testing the loss function"
      ]
    },
    {
      "cell_type": "code",
      "metadata": {
        "colab": {
          "base_uri": "https://localhost:8080/"
        },
        "id": "MDa7MW-9g-Ex",
        "outputId": "d3d996e5-969e-41a1-f55f-36606204222b"
      },
      "source": [
        "model = tf.keras.Sequential([keras.layers.Dense(units=1, input_shape=[1])])\r\n",
        "model.compile(optimizer='sgd', loss=my_huber_loss_with_threshold(threshold=10))\r\n",
        "model.fit(xs, ys, epochs=500,verbose=0)\r\n",
        "print(model.predict([10.0]))"
      ],
      "execution_count": 7,
      "outputs": [
        {
          "output_type": "stream",
          "text": [
            "[[28.670618]]\n"
          ],
          "name": "stdout"
        }
      ]
    },
    {
      "cell_type": "markdown",
      "metadata": {
        "id": "36TLVkE3hExE"
      },
      "source": [
        "### Building Huber loss function as a class"
      ]
    },
    {
      "cell_type": "code",
      "metadata": {
        "id": "APeVBc2ThMC9"
      },
      "source": [
        "from tensorflow.keras.losses import Loss\r\n",
        "\r\n",
        "class MyHuberLoss(Loss):\r\n",
        "  \r\n",
        "    # initialize instance attributes\r\n",
        "    def __init__(self, threshold=1):\r\n",
        "        super().__init__()\r\n",
        "        self.threshold = threshold\r\n",
        "\r\n",
        "    # compute loss\r\n",
        "    def call(self, y_true, y_pred):\r\n",
        "        error = y_true - y_pred\r\n",
        "        is_small_error = tf.abs(error) <= self.threshold\r\n",
        "        small_error_loss = tf.square(error) / 2\r\n",
        "        big_error_loss = self.threshold * (tf.abs(error) - (0.5 * self.threshold))\r\n",
        "        return tf.where(is_small_error, small_error_loss, big_error_loss)"
      ],
      "execution_count": 8,
      "outputs": []
    },
    {
      "cell_type": "markdown",
      "metadata": {
        "id": "a08Fl5x6hSjs"
      },
      "source": [
        "###Testing the loss function\r\n",
        "We specify the loss by instantiating an object from your custom loss class."
      ]
    },
    {
      "cell_type": "code",
      "metadata": {
        "colab": {
          "base_uri": "https://localhost:8080/"
        },
        "id": "2Agfvyh1hXak",
        "outputId": "b405f2c7-2123-41ed-8764-6cdceecf4188"
      },
      "source": [
        "model = tf.keras.Sequential([keras.layers.Dense(units=1, input_shape=[1])])\r\n",
        "model.compile(optimizer='sgd', loss=MyHuberLoss(threshold=10))\r\n",
        "model.fit(xs, ys, epochs=500,verbose=0)\r\n",
        "print(model.predict([10.0]))"
      ],
      "execution_count": 9,
      "outputs": [
        {
          "output_type": "stream",
          "text": [
            "[[28.680162]]\n"
          ],
          "name": "stdout"
        }
      ]
    },
    {
      "cell_type": "markdown",
      "metadata": {
        "id": "dEVd6qRqlvJg"
      },
      "source": [
        "# We notice that RMSE loss function gives much better resuts in this problem than Huber loss function."
      ]
    }
  ]
}